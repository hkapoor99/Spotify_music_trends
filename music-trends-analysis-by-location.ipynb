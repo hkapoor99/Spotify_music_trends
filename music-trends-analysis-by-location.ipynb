{
 "cells": [
  {
   "cell_type": "markdown",
   "metadata": {},
   "source": [
    "# What are you listening to?\n",
    "<img src=\"Data/Spotify_logo.png\" width=700, height=50/>"
   ]
  },
  {
   "cell_type": "markdown",
   "metadata": {},
   "source": [
    "## Section 1 - Overview\n",
    "People in different parts of the world prefer to hear songs of different kinds, genres and duration. Spotify is one place where most of them fulfil their music cravings. In this notebook, we will to answer some of the questions of music trends around the globe. Here, we will be using <b>Spotify's Top Songs by Country Charts</b> dataset which was extracted by using Selenium and BeautifulSoup and is available on Kaggle <a href=\"https://www.kaggle.com/hkapoor/spotify-top-songs-by-country-may-2020\">here</a>."
   ]
  },
  {
   "cell_type": "markdown",
   "metadata": {},
   "source": [
    "### Importing libraries"
   ]
  },
  {
   "cell_type": "code",
   "execution_count": 1,
   "metadata": {},
   "outputs": [],
   "source": [
    "import pandas as pd\n",
    "import numpy as np\n",
    "import matplotlib.pyplot as plt\n",
    "import seaborn as sns"
   ]
  },
  {
   "cell_type": "code",
   "execution_count": 2,
   "metadata": {},
   "outputs": [
    {
     "data": {
      "text/plain": [
       "'0.11.2'"
      ]
     },
     "execution_count": 2,
     "metadata": {},
     "output_type": "execute_result"
    }
   ],
   "source": [
    "import matplotlib\n",
    "sns.__version__"
   ]
  },
  {
   "cell_type": "markdown",
   "metadata": {},
   "source": [
    "## Section 2 - Business Understaning\n",
    "Through this notebook, we will try to dive deeper into the Spotify trends dataset and answer some of the questions around music trends and preferences.\n",
    "### Question 1 - Spotify is available in which countires and continents?\n",
    "### Question 2 - What are the top 10 tracks, artists and albums by number of occurences in charts?\n",
    "### Question 3 - What is the distirbution of song durations?\n",
    "### Question 4 - What is the distribution of explicit/non-explicit tracks on Spotify?"
   ]
  },
  {
   "cell_type": "markdown",
   "metadata": {},
   "source": [
    "## Section 3 - Data Understaning\n",
    "### Access\n",
    "Data is available for free use on Kaggle - <a href=\"https://www.kaggle.com/datasets/hkapoor/spotify-top-songs-by-country-may-2020\">Link</a>\n",
    "<br>\n",
    "The dataset contains \"Top 50 songs\" of 62 countries and one \"Top 50 Global\" chart."
   ]
  },
  {
   "cell_type": "code",
   "execution_count": 3,
   "metadata": {},
   "outputs": [],
   "source": [
    "data_df = pd.read_csv(\"Data/SpotifyTopSongsByCountry - May 2020.csv\")"
   ]
  },
  {
   "cell_type": "markdown",
   "metadata": {},
   "source": [
    "### Explore"
   ]
  },
  {
   "cell_type": "code",
   "execution_count": 4,
   "metadata": {},
   "outputs": [
    {
     "data": {
      "text/plain": [
       "(3150, 8)"
      ]
     },
     "execution_count": 4,
     "metadata": {},
     "output_type": "execute_result"
    }
   ],
   "source": [
    "data_df.shape"
   ]
  },
  {
   "cell_type": "markdown",
   "metadata": {},
   "source": [
    "### Features\n",
    "- <b>Country</b> : Country name or \"Global\" \n",
    "- <b>Continent</b> : Continent name\n",
    "- <b>Rank</b> : Song rank specific to country\n",
    "- <b>Title</b> : Title of the song\n",
    "- <b>Artists</b> : Artist(s) of the song\n",
    "- <b>Album</b> : Album name\n",
    "- <b>Explicit</b> : If the track is explicit?\n",
    "- <b>Duration</b> : Duration of the track"
   ]
  },
  {
   "cell_type": "code",
   "execution_count": 5,
   "metadata": {},
   "outputs": [
    {
     "data": {
      "text/html": [
       "<div>\n",
       "<style scoped>\n",
       "    .dataframe tbody tr th:only-of-type {\n",
       "        vertical-align: middle;\n",
       "    }\n",
       "\n",
       "    .dataframe tbody tr th {\n",
       "        vertical-align: top;\n",
       "    }\n",
       "\n",
       "    .dataframe thead th {\n",
       "        text-align: right;\n",
       "    }\n",
       "</style>\n",
       "<table border=\"1\" class=\"dataframe\">\n",
       "  <thead>\n",
       "    <tr style=\"text-align: right;\">\n",
       "      <th></th>\n",
       "      <th>Country</th>\n",
       "      <th>Continent</th>\n",
       "      <th>Rank</th>\n",
       "      <th>Title</th>\n",
       "      <th>Artists</th>\n",
       "      <th>Album</th>\n",
       "      <th>Explicit</th>\n",
       "      <th>Duration</th>\n",
       "    </tr>\n",
       "  </thead>\n",
       "  <tbody>\n",
       "    <tr>\n",
       "      <th>0</th>\n",
       "      <td>Global</td>\n",
       "      <td>Global</td>\n",
       "      <td>1</td>\n",
       "      <td>Rain On Me (with Ariana Grande)</td>\n",
       "      <td>Lady Gaga, Ariana Grande</td>\n",
       "      <td>Rain On Me (with Ariana Grande)</td>\n",
       "      <td>0</td>\n",
       "      <td>3:02</td>\n",
       "    </tr>\n",
       "    <tr>\n",
       "      <th>1</th>\n",
       "      <td>Global</td>\n",
       "      <td>Global</td>\n",
       "      <td>2</td>\n",
       "      <td>Blinding Lights</td>\n",
       "      <td>The Weeknd</td>\n",
       "      <td>After Hours</td>\n",
       "      <td>0</td>\n",
       "      <td>3:20</td>\n",
       "    </tr>\n",
       "    <tr>\n",
       "      <th>2</th>\n",
       "      <td>Global</td>\n",
       "      <td>Global</td>\n",
       "      <td>3</td>\n",
       "      <td>ROCKSTAR (feat. Roddy Ricch)</td>\n",
       "      <td>DaBaby, Roddy Ricch</td>\n",
       "      <td>BLAME IT ON BABY</td>\n",
       "      <td>1</td>\n",
       "      <td>3:01</td>\n",
       "    </tr>\n",
       "    <tr>\n",
       "      <th>3</th>\n",
       "      <td>Global</td>\n",
       "      <td>Global</td>\n",
       "      <td>4</td>\n",
       "      <td>Roses - Imanbek Remix</td>\n",
       "      <td>SAINt JHN, Imanbek</td>\n",
       "      <td>Roses (Imanbek Remix)</td>\n",
       "      <td>1</td>\n",
       "      <td>2:56</td>\n",
       "    </tr>\n",
       "    <tr>\n",
       "      <th>4</th>\n",
       "      <td>Global</td>\n",
       "      <td>Global</td>\n",
       "      <td>5</td>\n",
       "      <td>Toosie Slide</td>\n",
       "      <td>Drake</td>\n",
       "      <td>Dark Lane Demo Tapes</td>\n",
       "      <td>1</td>\n",
       "      <td>4:07</td>\n",
       "    </tr>\n",
       "  </tbody>\n",
       "</table>\n",
       "</div>"
      ],
      "text/plain": [
       "  Country Continent  Rank                            Title  \\\n",
       "0  Global    Global     1  Rain On Me (with Ariana Grande)   \n",
       "1  Global    Global     2                  Blinding Lights   \n",
       "2  Global    Global     3     ROCKSTAR (feat. Roddy Ricch)   \n",
       "3  Global    Global     4            Roses - Imanbek Remix   \n",
       "4  Global    Global     5                     Toosie Slide   \n",
       "\n",
       "                    Artists                            Album  Explicit  \\\n",
       "0  Lady Gaga, Ariana Grande  Rain On Me (with Ariana Grande)         0   \n",
       "1                The Weeknd                      After Hours         0   \n",
       "2       DaBaby, Roddy Ricch                 BLAME IT ON BABY         1   \n",
       "3        SAINt JHN, Imanbek            Roses (Imanbek Remix)         1   \n",
       "4                     Drake             Dark Lane Demo Tapes         1   \n",
       "\n",
       "  Duration  \n",
       "0     3:02  \n",
       "1     3:20  \n",
       "2     3:01  \n",
       "3     2:56  \n",
       "4     4:07  "
      ]
     },
     "execution_count": 5,
     "metadata": {},
     "output_type": "execute_result"
    }
   ],
   "source": [
    "data_df.head(5)"
   ]
  },
  {
   "cell_type": "markdown",
   "metadata": {},
   "source": [
    "## Section 3 - Data Preparation\n",
    "\n",
    "#### Clean\n",
    "##### Converting duration from string of mm:ss format to int of seconds"
   ]
  },
  {
   "cell_type": "code",
   "execution_count": 6,
   "metadata": {},
   "outputs": [],
   "source": [
    "seconds = []\n",
    "for i in data_df[\"Duration\"]:\n",
    "    val = i.split(\":\")\n",
    "    secs = int(val[0])*60 + int(val[1])\n",
    "    seconds.append(secs)\n",
    "data_df[\"Duration_in_secs\"] = seconds"
   ]
  },
  {
   "cell_type": "code",
   "execution_count": 7,
   "metadata": {},
   "outputs": [
    {
     "data": {
      "text/html": [
       "<div>\n",
       "<style scoped>\n",
       "    .dataframe tbody tr th:only-of-type {\n",
       "        vertical-align: middle;\n",
       "    }\n",
       "\n",
       "    .dataframe tbody tr th {\n",
       "        vertical-align: top;\n",
       "    }\n",
       "\n",
       "    .dataframe thead th {\n",
       "        text-align: right;\n",
       "    }\n",
       "</style>\n",
       "<table border=\"1\" class=\"dataframe\">\n",
       "  <thead>\n",
       "    <tr style=\"text-align: right;\">\n",
       "      <th></th>\n",
       "      <th>Country</th>\n",
       "      <th>Continent</th>\n",
       "      <th>Rank</th>\n",
       "      <th>Title</th>\n",
       "      <th>Artists</th>\n",
       "      <th>Album</th>\n",
       "      <th>Explicit</th>\n",
       "      <th>Duration</th>\n",
       "      <th>Duration_in_secs</th>\n",
       "    </tr>\n",
       "  </thead>\n",
       "  <tbody>\n",
       "    <tr>\n",
       "      <th>0</th>\n",
       "      <td>Global</td>\n",
       "      <td>Global</td>\n",
       "      <td>1</td>\n",
       "      <td>Rain On Me (with Ariana Grande)</td>\n",
       "      <td>Lady Gaga, Ariana Grande</td>\n",
       "      <td>Rain On Me (with Ariana Grande)</td>\n",
       "      <td>0</td>\n",
       "      <td>3:02</td>\n",
       "      <td>182</td>\n",
       "    </tr>\n",
       "    <tr>\n",
       "      <th>1</th>\n",
       "      <td>Global</td>\n",
       "      <td>Global</td>\n",
       "      <td>2</td>\n",
       "      <td>Blinding Lights</td>\n",
       "      <td>The Weeknd</td>\n",
       "      <td>After Hours</td>\n",
       "      <td>0</td>\n",
       "      <td>3:20</td>\n",
       "      <td>200</td>\n",
       "    </tr>\n",
       "  </tbody>\n",
       "</table>\n",
       "</div>"
      ],
      "text/plain": [
       "  Country Continent  Rank                            Title  \\\n",
       "0  Global    Global     1  Rain On Me (with Ariana Grande)   \n",
       "1  Global    Global     2                  Blinding Lights   \n",
       "\n",
       "                    Artists                            Album  Explicit  \\\n",
       "0  Lady Gaga, Ariana Grande  Rain On Me (with Ariana Grande)         0   \n",
       "1                The Weeknd                      After Hours         0   \n",
       "\n",
       "  Duration  Duration_in_secs  \n",
       "0     3:02               182  \n",
       "1     3:20               200  "
      ]
     },
     "execution_count": 7,
     "metadata": {},
     "output_type": "execute_result"
    }
   ],
   "source": [
    "data_df.head(2)"
   ]
  },
  {
   "cell_type": "markdown",
   "metadata": {},
   "source": [
    "Besides \"Duration\" column, redt of the columns are already cleaned"
   ]
  },
  {
   "cell_type": "markdown",
   "metadata": {},
   "source": [
    "## Section 4 - Evaluation"
   ]
  },
  {
   "cell_type": "markdown",
   "metadata": {},
   "source": [
    "### Question 1 - Spotify is available in which countires and continents?\n",
    "#### Analyze"
   ]
  },
  {
   "cell_type": "code",
   "execution_count": 8,
   "metadata": {
    "scrolled": true
   },
   "outputs": [
    {
     "data": {
      "text/plain": [
       "array(['Argentina', 'Australia', 'Austria', 'Belgium', 'Bolivia',\n",
       "       'Brazil', 'Bulgaria', 'Canada', 'Chile', 'Colombia', 'Costa Rica',\n",
       "       'Czech Republic', 'Denmark', 'Dominican Republic', 'Ecuador',\n",
       "       'El Salvador', 'Estonia', 'Finland', 'France', 'Germany', 'Greece',\n",
       "       'Guatemala', 'Honduras', 'Hong Kong', 'Hungary', 'Iceland',\n",
       "       'India', 'Indonesia', 'Ireland', 'Israel', 'Italy', 'Japan',\n",
       "       'Latvia', 'Lithuania', 'Luxembourg', 'Malaysia', 'Malta', 'Mexico',\n",
       "       'Netherlands', 'New Zealand', 'Nicaragua', 'Norway', 'Panama',\n",
       "       'Paraguay', 'Peru', 'Philippines', 'Poland', 'Portugal', 'Romania',\n",
       "       'Singapore', 'Slovakia', 'South Africa', 'Spain', 'Sweden',\n",
       "       'Switzerland', 'Taiwan', 'Thailand', 'Turkey', 'United Kingdom',\n",
       "       'United States', 'Uruguay', 'Vietnam'], dtype=object)"
      ]
     },
     "execution_count": 8,
     "metadata": {},
     "output_type": "execute_result"
    }
   ],
   "source": [
    "unique_countries = data_df[\"Country\"].unique()\n",
    "unique_countries = unique_countries[unique_countries != \"Global\"]\n",
    "unique_countries"
   ]
  },
  {
   "cell_type": "markdown",
   "metadata": {},
   "source": [
    "We have 62 unique countries in our dataset."
   ]
  },
  {
   "cell_type": "code",
   "execution_count": 9,
   "metadata": {},
   "outputs": [
    {
     "data": {
      "text/plain": [
       "array(['Global', 'South America', 'Australia', 'Europe', 'North America',\n",
       "       'Asia', 'Africa'], dtype=object)"
      ]
     },
     "execution_count": 9,
     "metadata": {},
     "output_type": "execute_result"
    }
   ],
   "source": [
    "data_df[\"Continent\"].unique()"
   ]
  },
  {
   "cell_type": "markdown",
   "metadata": {},
   "source": [
    "Number of countries in each continent"
   ]
  },
  {
   "cell_type": "code",
   "execution_count": 10,
   "metadata": {},
   "outputs": [],
   "source": [
    "continent_value_counts = (data_df[\"Continent\"].value_counts()/50).astype(\"int32\")\n",
    "continent_value_counts = continent_value_counts.drop(\"Global\")"
   ]
  },
  {
   "cell_type": "code",
   "execution_count": 11,
   "metadata": {},
   "outputs": [
    {
     "data": {
      "text/plain": [
       "Europe           29\n",
       "Asia             11\n",
       "North America    10\n",
       "South America     9\n",
       "Australia         2\n",
       "Africa            1\n",
       "Name: Continent, dtype: int32"
      ]
     },
     "execution_count": 11,
     "metadata": {},
     "output_type": "execute_result"
    }
   ],
   "source": [
    "continent_value_counts"
   ]
  },
  {
   "cell_type": "markdown",
   "metadata": {},
   "source": [
    "#### Visualize"
   ]
  },
  {
   "cell_type": "code",
   "execution_count": 12,
   "metadata": {},
   "outputs": [
    {
     "data": {
      "image/png": "[encoded data removed]",
      "text/plain": [
       "<Figure size 936x504 with 1 Axes>"
      ]
     },
     "metadata": {
      "needs_background": "light"
     },
     "output_type": "display_data"
    }
   ],
   "source": [
    "height = continent_value_counts.values\n",
    "bars = continent_value_counts.index\n",
    "y_pos = range(0,12,2)\n",
    "\n",
    "fig = plt.figure(figsize=[13,7], frameon=False)\n",
    "ax = fig.gca()\n",
    "ax.spines[\"top\"].set_visible(False)\n",
    "ax.spines[\"right\"].set_visible(False)\n",
    "ax.spines[\"left\"].set_color(\"#424242\")\n",
    "ax.spines[\"bottom\"].set_color(\"#424242\")\n",
    "\n",
    "plt.bar(y_pos, height, color=\"#1db954\", width=1.2)\n",
    " \n",
    "plt.xticks(y_pos, bars, color=\"#424242\")\n",
    "plt.yticks(color=\"#424242\")\n",
    "for i, v in enumerate(height):\n",
    "    ax.text((i)*2 - 0.1, v+0.5, str(v), color='#424242')\n",
    "plt.title(\"Number of countries in each continent\", y=-0.15)\n",
    "\n",
    "plt.title(\"Number of countries where Spotify is available\")\n",
    "plt.xlabel(\"Continents\")\n",
    "plt.ylabel(\"Number of countries\")\n",
    "plt.show()"
   ]
  },
  {
   "cell_type": "markdown",
   "metadata": {},
   "source": [
    "We have majourity of our data from Europian countries."
   ]
  },
  {
   "cell_type": "markdown",
   "metadata": {},
   "source": [
    "### Question 2 - What are the top 10 tracks, artists and albums by number of occurences in charts?"
   ]
  },
  {
   "cell_type": "markdown",
   "metadata": {},
   "source": [
    "#### Analyze"
   ]
  },
  {
   "cell_type": "code",
   "execution_count": 13,
   "metadata": {},
   "outputs": [],
   "source": [
    "top10_tracks = data_df[\"Title\"].value_counts()[:10].sort_values(ascending=True)"
   ]
  },
  {
   "cell_type": "markdown",
   "metadata": {},
   "source": [
    "#### Visualize"
   ]
  },
  {
   "cell_type": "code",
   "execution_count": 14,
   "metadata": {},
   "outputs": [
    {
     "data": {
      "image/png": "[encoded data removed]",
      "text/plain": [
       "<Figure size 792x504 with 1 Axes>"
      ]
     },
     "metadata": {
      "needs_background": "light"
     },
     "output_type": "display_data"
    }
   ],
   "source": [
    "height = top10_tracks.values\n",
    "bars = top10_tracks.index\n",
    "y_pos = np.arange(len(bars))\n",
    "\n",
    "fig = plt.figure(figsize=[11,7], frameon=False)\n",
    "ax = fig.gca()\n",
    "ax.spines[\"top\"].set_visible(\"#424242\")\n",
    "ax.spines[\"right\"].set_visible(False)\n",
    "ax.spines[\"left\"].set_color(\"#424242\")\n",
    "ax.spines[\"bottom\"].set_color(\"#424242\")\n",
    "\n",
    "plt.barh(y_pos, height, color=\"#1db954\", height=0.8)\n",
    " \n",
    "plt.xticks(color=\"#424242\")\n",
    "plt.yticks(y_pos, bars, color=\"#424242\")\n",
    "plt.xlabel(\"Number of occurances in charts\")\n",
    "\n",
    "for i, v in enumerate(height):\n",
    "    ax.text(v+1, i, str(v), color='#424242')\n",
    "plt.title(\"Top 10 Tracks\")\n",
    "\n",
    "\n",
    "plt.show()"
   ]
  },
  {
   "cell_type": "markdown",
   "metadata": {},
   "source": [
    "2 songs made it to 60 charts out of 63, that's something!"
   ]
  },
  {
   "cell_type": "markdown",
   "metadata": {},
   "source": [
    "#### Analyze\n",
    "\n",
    "Preprocessing the Artists columns because some tracks have multiple artists."
   ]
  },
  {
   "cell_type": "code",
   "execution_count": 15,
   "metadata": {},
   "outputs": [],
   "source": [
    "def extract_artist_names(df_col):\n",
    "    '''\n",
    "    returns all artist names into a list\n",
    "    \n",
    "    Input:\n",
    "        Original column with artist names as string separated with a comma\n",
    "    Output:\n",
    "        List of all artist names\n",
    "    '''\n",
    "    artists_list = []\n",
    "    for artist_str in df_col:\n",
    "        artists = artist_str.split(\", \")\n",
    "        artists_list = artists_list + artists\n",
    "    return artists_list"
   ]
  },
  {
   "cell_type": "code",
   "execution_count": 16,
   "metadata": {},
   "outputs": [],
   "source": [
    "Artists = extract_artist_names(data_df[\"Artists\"])"
   ]
  },
  {
   "cell_type": "markdown",
   "metadata": {},
   "source": [
    "Number of total individual artist occurances in all songs."
   ]
  },
  {
   "cell_type": "code",
   "execution_count": 17,
   "metadata": {},
   "outputs": [
    {
     "data": {
      "text/plain": [
       "5056"
      ]
     },
     "execution_count": 17,
     "metadata": {},
     "output_type": "execute_result"
    }
   ],
   "source": [
    "len(Artists)"
   ]
  },
  {
   "cell_type": "code",
   "execution_count": 18,
   "metadata": {},
   "outputs": [],
   "source": [
    "top10_artists = pd.Series(Artists).value_counts()[:10].sort_values(ascending=True)"
   ]
  },
  {
   "cell_type": "markdown",
   "metadata": {},
   "source": [
    "#### Visualize"
   ]
  },
  {
   "cell_type": "code",
   "execution_count": 19,
   "metadata": {},
   "outputs": [
    {
     "data": {
      "image/png": "[encoded data removed]",
      "text/plain": [
       "<Figure size 936x504 with 1 Axes>"
      ]
     },
     "metadata": {
      "needs_background": "light"
     },
     "output_type": "display_data"
    }
   ],
   "source": [
    "height = top10_artists.values\n",
    "bars = top10_artists.index\n",
    "y_pos = np.arange(len(bars))\n",
    "\n",
    "fig = plt.figure(figsize=[13,7], frameon=False)\n",
    "ax = fig.gca()\n",
    "ax.spines[\"top\"].set_visible(\"#424242\")\n",
    "ax.spines[\"right\"].set_visible(False)\n",
    "ax.spines[\"left\"].set_color(\"#424242\")\n",
    "ax.spines[\"bottom\"].set_color(\"#424242\")\n",
    "\n",
    "plt.barh(y_pos, height, color=\"#1db954\", height=0.8)\n",
    " \n",
    "plt.xticks(color=\"#424242\")\n",
    "plt.yticks(y_pos, bars, color=\"#424242\")\n",
    "plt.xlabel(\"Number of artist occurances in charts\")\n",
    "\n",
    "for i, v in enumerate(height):\n",
    "    ax.text(v+1, i, str(v), color='#424242')\n",
    "plt.title(\"Top 10 Artists\")\n",
    "\n",
    "\n",
    "plt.show()"
   ]
  },
  {
   "cell_type": "markdown",
   "metadata": {},
   "source": [
    "\"Bad Bunny\" outweighs all other artists by a huge margin! Ironically, none of his track made it to Top 10 most occuring tracks."
   ]
  },
  {
   "cell_type": "markdown",
   "metadata": {},
   "source": [
    "#### Analyze"
   ]
  },
  {
   "cell_type": "code",
   "execution_count": 20,
   "metadata": {},
   "outputs": [],
   "source": [
    "top10_albums = data_df[\"Album\"].value_counts()[:10].sort_values(ascending=True)"
   ]
  },
  {
   "cell_type": "markdown",
   "metadata": {},
   "source": [
    "#### Visualize"
   ]
  },
  {
   "cell_type": "code",
   "execution_count": 21,
   "metadata": {},
   "outputs": [
    {
     "data": {
      "image/png": "[encoded data removed]",
      "text/plain": [
       "<Figure size 792x504 with 1 Axes>"
      ]
     },
     "metadata": {
      "needs_background": "light"
     },
     "output_type": "display_data"
    }
   ],
   "source": [
    "height = top10_albums.values\n",
    "bars = top10_albums.index\n",
    "y_pos = np.arange(len(bars))\n",
    "\n",
    "fig = plt.figure(figsize=[11,7], frameon=False)\n",
    "ax = fig.gca()\n",
    "ax.spines[\"top\"].set_visible(\"#424242\")\n",
    "ax.spines[\"right\"].set_visible(False)\n",
    "ax.spines[\"left\"].set_color(\"#424242\")\n",
    "ax.spines[\"bottom\"].set_color(\"#424242\")\n",
    "\n",
    "plt.barh(y_pos, height, color=\"#1db954\", height=0.8)\n",
    " \n",
    "plt.xticks(color=\"#424242\")\n",
    "plt.yticks(y_pos, bars, color=\"#424242\")\n",
    "plt.xlabel(\"Number of album occurances in charts\")\n",
    "\n",
    "for i, v in enumerate(height):\n",
    "    ax.text(v+1, i, str(v), color='#424242')\n",
    "plt.title(\"Top 10 Albums\")\n",
    "\n",
    "plt.show()"
   ]
  },
  {
   "cell_type": "markdown",
   "metadata": {},
   "source": [
    "Again, \"Bad Bunny\" wins this one."
   ]
  },
  {
   "cell_type": "markdown",
   "metadata": {},
   "source": [
    "### Question 3 - What is the distirbution of song durations?\n",
    "#### Analyze"
   ]
  },
  {
   "cell_type": "code",
   "execution_count": 22,
   "metadata": {},
   "outputs": [
    {
     "data": {
      "text/plain": [
       "64     1\n",
       "84     1\n",
       "94     1\n",
       "106    5\n",
       "107    1\n",
       "      ..\n",
       "354    1\n",
       "371    1\n",
       "407    1\n",
       "756    1\n",
       "778    1\n",
       "Name: Duration_in_secs, Length: 216, dtype: int64"
      ]
     },
     "execution_count": 22,
     "metadata": {},
     "output_type": "execute_result"
    }
   ],
   "source": [
    "data_df[\"Duration_in_secs\"].value_counts().sort_index()"
   ]
  },
  {
   "cell_type": "markdown",
   "metadata": {},
   "source": [
    "#### Visualize"
   ]
  },
  {
   "cell_type": "code",
   "execution_count": 23,
   "metadata": {},
   "outputs": [
    {
     "name": "stderr",
     "output_type": "stream",
     "text": [
      "C:\\Users\\hk25439\\AppData\\Local\\Programs\\Python\\Python310\\lib\\site-packages\\seaborn\\distributions.py:2619: FutureWarning: `distplot` is a deprecated function and will be removed in a future version. Please adapt your code to use either `displot` (a figure-level function with similar flexibility) or `histplot` (an axes-level function for histograms).\n",
      "  warnings.warn(msg, FutureWarning)\n"
     ]
    },
    {
     "data": {
      "image/png": "[encoded data removed]",
      "text/plain": [
       "<Figure size 936x504 with 1 Axes>"
      ]
     },
     "metadata": {
      "needs_background": "light"
     },
     "output_type": "display_data"
    }
   ],
   "source": [
    "fig = plt.figure(figsize=[13,7], frameon=False)\n",
    "ax = fig.gca()\n",
    "ax.spines[\"top\"].set_visible(False)\n",
    "ax.spines[\"right\"].set_visible(False)\n",
    "ax.spines[\"left\"].set_color(\"#424242\")\n",
    "ax.spines[\"bottom\"].set_color(\"#424242\")\n",
    "\n",
    "sns.distplot(data_df[\"Duration_in_secs\"].tolist(), hist=True, kde=True, bins=int(180/5), color = '#1db954',  hist_kws={'edgecolor':'#1db954'},\n",
    "             kde_kws={'linewidth': 4})\n",
    " \n",
    "plt.xticks(color=\"#424242\")\n",
    "plt.yticks(color=\"#424242\")\n",
    "plt.xlabel(\"Length of song(in seconds)\")\n",
    "plt.title(\"PDF of Song duration\")\n",
    "\n",
    "plt.show()"
   ]
  },
  {
   "cell_type": "markdown",
   "metadata": {},
   "source": [
    "Most songs lies in the 3min to 3min 20 seconds range. Interestingly, there is another small spike close to 5 min mark. Let's explore!"
   ]
  },
  {
   "cell_type": "markdown",
   "metadata": {},
   "source": [
    "#### Analyze"
   ]
  },
  {
   "cell_type": "code",
   "execution_count": 24,
   "metadata": {},
   "outputs": [],
   "source": [
    "duration_by_c = data_df.groupby(\"Country\").mean()[\"Duration_in_secs\"]"
   ]
  },
  {
   "cell_type": "markdown",
   "metadata": {},
   "source": [
    "Here, we will examine countries with lowest song duration averages"
   ]
  },
  {
   "cell_type": "code",
   "execution_count": 25,
   "metadata": {},
   "outputs": [
    {
     "data": {
      "text/plain": [
       "Country\n",
       "Germany    176.56\n",
       "Sweden     179.50\n",
       "Brazil     181.80\n",
       "Austria    182.10\n",
       "Denmark    184.22\n",
       "Name: Duration_in_secs, dtype: float64"
      ]
     },
     "execution_count": 25,
     "metadata": {},
     "output_type": "execute_result"
    }
   ],
   "source": [
    "bottom5_duration = duration_by_c.sort_values()[:5]\n",
    "bottom5_duration"
   ]
  },
  {
   "cell_type": "markdown",
   "metadata": {},
   "source": [
    "3 of them are from Europe, 1 from South America and 1 from Australia. Needless to stay it is pretty scattered to make a conclusion. Let's look at countries with highest song duration averages."
   ]
  },
  {
   "cell_type": "code",
   "execution_count": 26,
   "metadata": {},
   "outputs": [
    {
     "data": {
      "text/plain": [
       "Country\n",
       "Japan        264.10\n",
       "Indonesia    236.54\n",
       "Thailand     223.00\n",
       "Taiwan       220.66\n",
       "India        217.16\n",
       "Name: Duration_in_secs, dtype: float64"
      ]
     },
     "execution_count": 26,
     "metadata": {},
     "output_type": "execute_result"
    }
   ],
   "source": [
    "top5_duration = duration_by_c.sort_values(ascending=False)[:5]\n",
    "top5_duration"
   ]
  },
  {
   "cell_type": "markdown",
   "metadata": {},
   "source": [
    "Wow! All 5 countries are Asian. Remember, we only had 11 Asian countries in our database. Let's create BoxPlots of are selected top and bottom 5 countries."
   ]
  },
  {
   "cell_type": "code",
   "execution_count": 27,
   "metadata": {},
   "outputs": [],
   "source": [
    "filtered_data1 = data_df[(data_df[\"Country\"].isin(list(top5_duration.index))) + (data_df[\"Country\"].isin(list(bottom5_duration.index)))]"
   ]
  },
  {
   "cell_type": "markdown",
   "metadata": {},
   "source": [
    "#### Visualize"
   ]
  },
  {
   "cell_type": "code",
   "execution_count": 29,
   "metadata": {},
   "outputs": [
    {
     "data": {
      "image/png": "[encoded data removed]",
      "text/plain": [
       "<Figure size 936x720 with 1 Axes>"
      ]
     },
     "metadata": {
      "needs_background": "light"
     },
     "output_type": "display_data"
    }
   ],
   "source": [
    "fig = plt.figure(figsize=[13,10], frameon=False)\n",
    "ax = fig.gca()\n",
    "ax.spines[\"top\"].set_visible(False)\n",
    "ax.spines[\"right\"].set_visible(False)\n",
    "ax.spines[\"left\"].set_color(\"#424242\")\n",
    "ax.spines[\"bottom\"].set_color(\"#424242\")\n",
    "\n",
    "sns.boxplot( x = filtered_data1[\"Country\"], y = filtered_data1[\"Duration_in_secs\"], color = '#1db954')\n",
    " \n",
    "plt.xticks(color=\"#424242\")\n",
    "plt.yticks(color=\"#424242\")\n",
    "plt.xlabel(\"Length of song(in seconds)\")\n",
    "plt.title(\"Box plot of average song duration in top and bottom 5 countries\")\n",
    "\n",
    "plt.show()"
   ]
  },
  {
   "cell_type": "markdown",
   "metadata": {},
   "source": [
    "Well, one reason Indonesia is 2nd on the list might be because of 2 extremely long songs. But, overall songs liked by Asians are longer in duration. Let's check this on the whole dataset."
   ]
  },
  {
   "cell_type": "markdown",
   "metadata": {},
   "source": [
    "#### Analyze"
   ]
  },
  {
   "cell_type": "code",
   "execution_count": 30,
   "metadata": {},
   "outputs": [],
   "source": [
    "filtered_data2 = data_df[data_df[\"Continent\"] != \"Global\"]"
   ]
  },
  {
   "cell_type": "markdown",
   "metadata": {},
   "source": [
    "#### Visualize"
   ]
  },
  {
   "cell_type": "code",
   "execution_count": 33,
   "metadata": {},
   "outputs": [
    {
     "data": {
      "image/png": "[encoded data removed]",
      "text/plain": [
       "<Figure size 936x720 with 1 Axes>"
      ]
     },
     "metadata": {
      "needs_background": "light"
     },
     "output_type": "display_data"
    }
   ],
   "source": [
    "fig = plt.figure(figsize=[13,10], frameon=False)\n",
    "ax = fig.gca()\n",
    "ax.spines[\"top\"].set_visible(False)\n",
    "ax.spines[\"right\"].set_visible(False)\n",
    "ax.spines[\"left\"].set_color(\"#424242\")\n",
    "ax.spines[\"bottom\"].set_color(\"#424242\")\n",
    "\n",
    "sns.boxplot( x = filtered_data2[\"Continent\"], y = filtered_data2[\"Duration_in_secs\"], color = '#1db954')\n",
    " \n",
    "plt.xticks(color=\"#424242\")\n",
    "plt.yticks(color=\"#424242\")\n",
    "plt.xlabel(\"Length of songs (in seconds)\")\n",
    "plt.title(\"Box plot of average song duration in top and bottom 5 countries\")\n",
    "\n",
    "plt.show()"
   ]
  },
  {
   "cell_type": "markdown",
   "metadata": {},
   "source": [
    "As we can see, songs preferred by Asians are of longer durations while songs liked in Europian countries are mostly around the 3minute mark."
   ]
  },
  {
   "cell_type": "markdown",
   "metadata": {},
   "source": [
    "### Question 4 - What is the distribution of explicit/non-explicit tracks on Spotify?\n",
    "#### Analyze"
   ]
  },
  {
   "cell_type": "code",
   "execution_count": 34,
   "metadata": {},
   "outputs": [
    {
     "data": {
      "text/plain": [
       "1    1099\n",
       "0    2051\n",
       "Name: Explicit, dtype: int64"
      ]
     },
     "execution_count": 34,
     "metadata": {},
     "output_type": "execute_result"
    }
   ],
   "source": [
    "exp_data = data_df[\"Explicit\"].value_counts().sort_values()\n",
    "exp_data"
   ]
  },
  {
   "cell_type": "markdown",
   "metadata": {},
   "source": [
    "#### Visualize"
   ]
  },
  {
   "cell_type": "code",
   "execution_count": 35,
   "metadata": {},
   "outputs": [
    {
     "data": {
      "image/png": "[encoded data removed]",
      "text/plain": [
       "<Figure size 576x360 with 1 Axes>"
      ]
     },
     "metadata": {
      "needs_background": "light"
     },
     "output_type": "display_data"
    }
   ],
   "source": [
    "height = exp_data.values\n",
    "bars = [\"Explicit\", \"Not explicit\"]\n",
    "y_pos = range(0,4,2)\n",
    "\n",
    "fig = plt.figure(figsize=[8,5], frameon=False)\n",
    "ax = fig.gca()\n",
    "ax.spines[\"top\"].set_visible(False)\n",
    "ax.spines[\"right\"].set_visible(False)\n",
    "ax.spines[\"left\"].set_color(\"#424242\")\n",
    "ax.spines[\"bottom\"].set_color(\"#424242\")\n",
    "\n",
    "plt.bar(y_pos, height, color=\"#1db954\", width=0.8)\n",
    " \n",
    "plt.xticks(y_pos, bars, color=\"#424242\")\n",
    "plt.yticks(color=\"#424242\")\n",
    "for i, v in enumerate(height):\n",
    "    ax.text((i)*2 - 0.1, v+30, str(v), color='#424242')\n",
    "plt.title(\"Explicit songs\", y=-0.15)\n",
    "\n",
    "plt.ylabel(\"Number of songs\")\n",
    "plt.title(\"Explicit vs Not Explicit Distribution\")\n",
    "plt.show()"
   ]
  },
  {
   "cell_type": "markdown",
   "metadata": {},
   "source": [
    "Around 35% of the songs liked by people are Explicit. Let's see how it varies by location."
   ]
  },
  {
   "cell_type": "code",
   "execution_count": 36,
   "metadata": {},
   "outputs": [
    {
     "data": {
      "text/plain": [
       "Continent\n",
       "Africa           0.460000\n",
       "Asia             0.185455\n",
       "Australia        0.440000\n",
       "Europe           0.404138\n",
       "Global           0.460000\n",
       "North America    0.394000\n",
       "South America    0.275556\n",
       "Name: Explicit, dtype: float64"
      ]
     },
     "execution_count": 36,
     "metadata": {},
     "output_type": "execute_result"
    }
   ],
   "source": [
    "exp_data_cont = data_df.groupby(\"Continent\").mean()[\"Explicit\"]\n",
    "exp_data_cont"
   ]
  },
  {
   "cell_type": "code",
   "execution_count": 37,
   "metadata": {},
   "outputs": [
    {
     "data": {
      "image/png": "[encoded data removed]",
      "text/plain": [
       "<Figure size 936x504 with 1 Axes>"
      ]
     },
     "metadata": {
      "needs_background": "light"
     },
     "output_type": "display_data"
    }
   ],
   "source": [
    "height = exp_data_cont.values\n",
    "bars = exp_data_cont.index\n",
    "y_pos = range(0,14,2)\n",
    "\n",
    "fig = plt.figure(figsize=[13,7], frameon=False)\n",
    "ax = fig.gca()\n",
    "ax.spines[\"top\"].set_visible(False)\n",
    "ax.spines[\"right\"].set_visible(False)\n",
    "ax.spines[\"left\"].set_color(\"#424242\")\n",
    "ax.spines[\"bottom\"].set_color(\"#424242\")\n",
    "\n",
    "plt.bar(y_pos, height, color=\"#1db954\", width=0.8)\n",
    "plt.bar(y_pos, 1 - height, bottom = height,color=\"#3CDC75\", width=0.8)\n",
    " \n",
    "plt.xticks(y_pos, bars, color=\"#424242\")\n",
    "plt.yticks(color=\"#424242\")\n",
    "'''\n",
    "for i, v in enumerate(height):\n",
    "    ax.text((i)*2 - 0.2, v+0.01, str(np.round(v,2)), color='#424242')\n",
    "'''\n",
    "plt.title(\"Explicit songs percentage by continents\", y=-0.15)\n",
    "\n",
    "plt.show()"
   ]
  },
  {
   "cell_type": "markdown",
   "metadata": {},
   "source": [
    "Turns out Asian countries don't prefer Explicit songs (18% approx.) as compared to other countries. Also, \"Global Top 50 Chart\" has 23 explicit songs. "
   ]
  },
  {
   "cell_type": "markdown",
   "metadata": {},
   "source": [
    "## Conclusions\n",
    "\n",
    "1. Dataset is imbalanced with more Europian countries.\n",
    "2. Some songs have managed to make in 96% of Top Charts.\n",
    "3. Even though some artists have occurances in the Top charts, they don't have any song in Top 10 tracks occurances.\n",
    "4. Average song duration preferred by most is around 3:00 minutes to 3:20 minutes.\n",
    "5. People in Asian countries prefer longer song duration. Europian countries mostly listen to songs close to or less than 3 minutes.\n",
    "6. Asian countries prefer less of explicit songs, only 18%, compared to world average of 35%. \n",
    "7. \"Global Top 50 Chart\" has 23 explicit songs."
   ]
  },
  {
   "cell_type": "code",
   "execution_count": null,
   "metadata": {},
   "outputs": [],
   "source": []
  }
 ],
 "metadata": {
  "kernelspec": {
   "display_name": "Python 3 (ipykernel)",
   "language": "python",
   "name": "python3"
  },
  "language_info": {
   "codemirror_mode": {
    "name": "ipython",
    "version": 3
   },
   "file_extension": ".py",
   "mimetype": "text/x-python",
   "name": "python",
   "nbconvert_exporter": "python",
   "pygments_lexer": "ipython3",
   "version": "3.10.4"
  }
 },
 "nbformat": 4,
 "nbformat_minor": 4
}
